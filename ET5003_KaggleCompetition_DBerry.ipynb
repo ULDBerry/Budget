{
  "nbformat": 4,
  "nbformat_minor": 0,
  "metadata": {
    "colab": {
      "name": "ET5003_KaggleCompetition_DBerry.ipynb",
      "provenance": [],
      "include_colab_link": true
    },
    "kernelspec": {
      "name": "python3",
      "display_name": "Python 3"
    },
    "language_info": {
      "name": "python"
    }
  },
  "cells": [
    {
      "cell_type": "markdown",
      "metadata": {
        "id": "view-in-github",
        "colab_type": "text"
      },
      "source": [
        "<a href=\"https://colab.research.google.com/github/ULDBerry/Budget/blob/master/ET5003_KaggleCompetition_DBerry.ipynb\" target=\"_parent\"><img src=\"https://colab.research.google.com/assets/colab-badge.svg\" alt=\"Open In Colab\"/></a>"
      ]
    },
    {
      "cell_type": "markdown",
      "metadata": {
        "id": "930vlW5BrOtq"
      },
      "source": [
        "<div>\n",
        "<img src=\"https://drive.google.com/uc?export=view&id=1vK33e_EqaHgBHcbRV_m38hx6IkG0blK_\" width=\"350\"/>\n",
        "</div> \n",
        "\n",
        "#**Artificial Intelligence - MSc**\n",
        "##ET5003 - MACHINE LEARNING APPLICATIONS \n",
        "\n",
        "###Instructor: Enrique Naredo\n",
        "###ET5003_KaggleCompetition"
      ]
    },
    {
      "cell_type": "code",
      "metadata": {
        "id": "LqXD_IwUQuBF",
        "cellView": "form"
      },
      "source": [
        "#@title Current Date\n",
        "Today = '2021-10-05' #@param {type:\"date\"}\n"
      ],
      "execution_count": null,
      "outputs": []
    },
    {
      "cell_type": "code",
      "metadata": {
        "id": "uzDKau31OjVO",
        "cellView": "form"
      },
      "source": [
        "#@markdown ---\n",
        "#@markdown ### Enter your details here:\n",
        "Team_Number = \"6\" #@param {type:\"string\"}\n",
        "Student_ID&Name = \"\" #@param {type:\"string\"}\n",
        "Student_ID&Name = \"\" #@param {type:\"string\"}\n",
        "Student_ID&Name = \"\" #@param {type:\"string\"}\n",
        "Student_ID&Name = \"\" #@param {type:\"string\"}\n",
        "Student_ID&Name = \"\" #@param {type:\"string\"}\n",
        "#@markdown ---"
      ],
      "execution_count": null,
      "outputs": []
    },
    {
      "cell_type": "code",
      "metadata": {
        "id": "r39xGZckTpKx",
        "cellView": "form"
      },
      "source": [
        "#@title Notebook information\n",
        "Notebook_type = 'Etivity' #@param [\"Example\", \"Lab\", \"Practice\", \"Etivity\", \"Assignment\", \"Exam\"]\n",
        "Version = Final #@param [\"Draft\", \"Final\"] {type:\"raw\"}\n",
        "Submission = False #@param {type:\"boolean\"}"
      ],
      "execution_count": null,
      "outputs": []
    },
    {
      "cell_type": "markdown",
      "metadata": {
        "id": "_A0Z6S-r6DpA"
      },
      "source": [
        "# INTRODUCTION"
      ]
    },
    {
      "cell_type": "markdown",
      "metadata": {
        "id": "d2vlkUAJ7Pz7"
      },
      "source": [
        "Your introduction here."
      ]
    },
    {
      "cell_type": "markdown",
      "metadata": {
        "id": "aajlS0WCJ8pm"
      },
      "source": [
        "***The goal is to use advanced Machine Learning methods to predict House price.***"
      ]
    },
    {
      "cell_type": "markdown",
      "metadata": {
        "id": "Wg7VCbX77eAA"
      },
      "source": [
        "## Imports"
      ]
    },
    {
      "cell_type": "code",
      "metadata": {
        "id": "iFFLThrpwibd"
      },
      "source": [
        "# Suppressing Warnings:\n",
        "import warnings\n",
        "warnings.filterwarnings(\"ignore\")"
      ],
      "execution_count": 1,
      "outputs": []
    },
    {
      "cell_type": "code",
      "metadata": {
        "id": "k96-GLUGE2ux"
      },
      "source": [
        "# standard libraries\n",
        "import pandas as pd\n",
        "import numpy as np\n",
        "import matplotlib.pyplot as plt\n",
        "%matplotlib inline"
      ],
      "execution_count": 2,
      "outputs": []
    },
    {
      "cell_type": "code",
      "metadata": {
        "id": "sYPJU_Y6O6Dq"
      },
      "source": [
        "# to plot\n",
        "import matplotlib.colors\n",
        "from mpl_toolkits.mplot3d import Axes3D\n",
        "\n",
        "# to generate classification, regression and clustering datasets\n",
        "import sklearn.datasets as dt\n",
        "\n",
        "# to create data frames\n",
        "from pandas import DataFrame\n",
        "\n",
        "# to generate data from an existing dataset\n",
        "from sklearn.neighbors import KernelDensity\n",
        "from sklearn.model_selection import GridSearchCV"
      ],
      "execution_count": 3,
      "outputs": []
    },
    {
      "cell_type": "code",
      "metadata": {
        "id": "mxMYIOx1FONV"
      },
      "source": [
        "# Scikit-learn is an open source machine learning library \n",
        "# that supports supervised and unsupervised learning\n",
        "# https://scikit-learn.org/stable/\n",
        "from sklearn.model_selection import train_test_split\n",
        "from sklearn.feature_extraction.text import CountVectorizer\n",
        "from sklearn.naive_bayes import MultinomialNB\n",
        "from sklearn.metrics import accuracy_score, confusion_matrix"
      ],
      "execution_count": 4,
      "outputs": []
    },
    {
      "cell_type": "code",
      "metadata": {
        "id": "YLlFHWx4j7W6"
      },
      "source": [
        "# Regular expression operations\n",
        "#https://docs.python.org/3/library/re.html\n",
        "import re \n",
        "\n",
        "# Natural Language Toolkit\n",
        "# https://www.nltk.org/install.html\n",
        "import nltk\n",
        "\n",
        "# Stemming maps different forms of the same word to a common “stem” \n",
        "# https://pypi.org/project/snowballstemmer/\n",
        "from nltk.stem import SnowballStemmer\n",
        "\n",
        "# https://www.nltk.org/book/ch02.html\n",
        "from nltk.corpus import stopwords\n",
        "\n",
        "# https://scikit-learn.org/stable/modules/generated/sklearn.preprocessing.StandardScaler.html\n",
        "from sklearn.preprocessing import StandardScaler"
      ],
      "execution_count": 5,
      "outputs": []
    },
    {
      "cell_type": "code",
      "metadata": {
        "colab": {
          "base_uri": "https://localhost:8080/"
        },
        "id": "5cfDHD9BXh0s",
        "outputId": "5eeaee79-d8f4-4203-90aa-d839f64fba5a"
      },
      "source": [
        "!pip install gpy"
      ],
      "execution_count": 6,
      "outputs": [
        {
          "output_type": "stream",
          "name": "stdout",
          "text": [
            "Collecting gpy\n",
            "  Downloading GPy-1.10.0.tar.gz (959 kB)\n",
            "\u001b[K     |████████████████████████████████| 959 kB 7.5 MB/s \n",
            "\u001b[?25hRequirement already satisfied: numpy>=1.7 in /usr/local/lib/python3.7/dist-packages (from gpy) (1.19.5)\n",
            "Requirement already satisfied: six in /usr/local/lib/python3.7/dist-packages (from gpy) (1.15.0)\n",
            "Collecting paramz>=0.9.0\n",
            "  Downloading paramz-0.9.5.tar.gz (71 kB)\n",
            "\u001b[K     |████████████████████████████████| 71 kB 8.0 MB/s \n",
            "\u001b[?25hRequirement already satisfied: cython>=0.29 in /usr/local/lib/python3.7/dist-packages (from gpy) (0.29.24)\n",
            "Requirement already satisfied: scipy>=1.3.0 in /usr/local/lib/python3.7/dist-packages (from gpy) (1.4.1)\n",
            "Requirement already satisfied: decorator>=4.0.10 in /usr/local/lib/python3.7/dist-packages (from paramz>=0.9.0->gpy) (4.4.2)\n",
            "Building wheels for collected packages: gpy, paramz\n",
            "  Building wheel for gpy (setup.py) ... \u001b[?25l\u001b[?25hdone\n",
            "  Created wheel for gpy: filename=GPy-1.10.0-cp37-cp37m-linux_x86_64.whl size=2565095 sha256=24a0a2ebdbfaa0673a7fc65c056f03e1ea1bd6242bc7faee10897ca9279f65fb\n",
            "  Stored in directory: /root/.cache/pip/wheels/f7/18/28/dd1ce0192a81b71a3b086fd952511d088b21e8359ea496860a\n",
            "  Building wheel for paramz (setup.py) ... \u001b[?25l\u001b[?25hdone\n",
            "  Created wheel for paramz: filename=paramz-0.9.5-py3-none-any.whl size=102565 sha256=5ef34aa1b49f0c5cfeb1508e8b75a1f91565b3c66a1b4d8dc6af01bf57d2339a\n",
            "  Stored in directory: /root/.cache/pip/wheels/c8/95/f5/ce28482da28162e6028c4b3a32c41d147395825b3cd62bc810\n",
            "Successfully built gpy paramz\n",
            "Installing collected packages: paramz, gpy\n",
            "Successfully installed gpy-1.10.0 paramz-0.9.5\n"
          ]
        }
      ]
    },
    {
      "cell_type": "code",
      "metadata": {
        "id": "SwGh2bagw4kg"
      },
      "source": [
        "import GPy as GPy\n",
        "import numpy as np\n",
        "import pylab as pb\n",
        "import pymc3 as pm\n",
        "import arviz as az"
      ],
      "execution_count": 7,
      "outputs": []
    },
    {
      "cell_type": "code",
      "metadata": {
        "id": "6MUJdlxSPSMM"
      },
      "source": [
        "# Define the seed so that results can be reproduced\n",
        "seed = 11\n",
        "rand_state = 11\n",
        "\n",
        "# Define the color maps for plots\n",
        "color_map = plt.cm.get_cmap('RdYlBu')\n",
        "color_map_discrete = matplotlib.colors.LinearSegmentedColormap.from_list(\"\", [\"red\",\"cyan\",\"magenta\",\"blue\"])"
      ],
      "execution_count": null,
      "outputs": []
    },
    {
      "cell_type": "markdown",
      "metadata": {
        "id": "WL91ShB19RPw"
      },
      "source": [
        "# DATASET"
      ]
    },
    {
      "cell_type": "markdown",
      "metadata": {
        "id": "ESg5DGKWJSOf"
      },
      "source": [
        "Extract from this [paper](https://ieeexplore.ieee.org/document/9300074):\n",
        "\n",
        "* House prices are a significant impression of the economy, and its value ranges are of great concerns for the clients and property dealers. \n",
        "\n",
        "* Housing price escalate every year that eventually reinforced the need of strategy or technique that could predict house prices in future. \n",
        "\n",
        "* There are certain factors that influence house prices including physical conditions, locations, number of bedrooms and others.\n"
      ]
    },
    {
      "cell_type": "markdown",
      "metadata": {
        "id": "a8Y2pf50FlYL"
      },
      "source": [
        "1. [Download the dataset](https://github.com/UL-CS6134/CS6134_SEM1_2021-2/tree/main/Week-5). \n",
        "\n",
        "2. Upload the dataset into your folder.\n",
        "\n"
      ]
    },
    {
      "cell_type": "markdown",
      "metadata": {
        "id": "FMkdCQEmKTof"
      },
      "source": [
        "The challenge is to predict the final price of each house."
      ]
    },
    {
      "cell_type": "markdown",
      "metadata": {
        "id": "v7IVwnSwkChr"
      },
      "source": [
        "## Load the data from google drive"
      ]
    },
    {
      "cell_type": "code",
      "metadata": {
        "colab": {
          "base_uri": "https://localhost:8080/"
        },
        "id": "nWB_DmmykPpZ",
        "outputId": "7a58cd8c-1b95-435d-f48f-b95a69a851f5"
      },
      "source": [
        "# Mount Google Drive\n",
        "from google.colab import drive\n",
        "drive.mount('/content/drive')"
      ],
      "execution_count": 8,
      "outputs": [
        {
          "output_type": "stream",
          "name": "stdout",
          "text": [
            "Mounted at /content/drive\n"
          ]
        }
      ]
    },
    {
      "cell_type": "code",
      "metadata": {
        "id": "CoRFaWBjkVkJ"
      },
      "source": [
        "# path to your (local/cloud) drive \n",
        "path = '/content/drive/MyDrive/Colab Notebooks/Data/Kaggle/'\n",
        "\n",
        "# load dataset\n",
        "df_train = pd.read_csv(path+'HousePrice_Train.csv', encoding='utf-8')\n",
        "df_test = pd.read_csv(path+'HousePrice_Test.csv', encoding='utf-8')\n",
        "\n"
      ],
      "execution_count": 9,
      "outputs": []
    },
    {
      "cell_type": "markdown",
      "metadata": {
        "id": "1LFnQSPrl3th"
      },
      "source": [
        "## Exploratory Data Analysis"
      ]
    },
    {
      "cell_type": "code",
      "metadata": {
        "colab": {
          "base_uri": "https://localhost:8080/"
        },
        "id": "3KU0zbTYmW8n",
        "outputId": "d27df767-5aa4-480d-c47c-ce8879447c46"
      },
      "source": [
        "# get a list of features (column) names \n",
        "df_train.columns"
      ],
      "execution_count": 10,
      "outputs": [
        {
          "output_type": "execute_result",
          "data": {
            "text/plain": [
              "Index(['Index', 'ID', 'Location', 'Num_Bathrooms', 'Num_Beds', 'BER_class',\n",
              "       'Description', 'Services', 'Features', 'Latitude', 'Longitude', 'Type',\n",
              "       'Surface', 'Price'],\n",
              "      dtype='object')"
            ]
          },
          "metadata": {},
          "execution_count": 10
        }
      ]
    },
    {
      "cell_type": "code",
      "metadata": {
        "colab": {
          "base_uri": "https://localhost:8080/",
          "height": 359
        },
        "id": "JA6LvdUxo-rx",
        "outputId": "43e7f4b5-c2eb-4626-8945-d3d53095f30c"
      },
      "source": [
        "# show first 10 rows \n",
        "df_train.head(10)"
      ],
      "execution_count": 11,
      "outputs": [
        {
          "output_type": "execute_result",
          "data": {
            "text/html": [
              "<div>\n",
              "<style scoped>\n",
              "    .dataframe tbody tr th:only-of-type {\n",
              "        vertical-align: middle;\n",
              "    }\n",
              "\n",
              "    .dataframe tbody tr th {\n",
              "        vertical-align: top;\n",
              "    }\n",
              "\n",
              "    .dataframe thead th {\n",
              "        text-align: right;\n",
              "    }\n",
              "</style>\n",
              "<table border=\"1\" class=\"dataframe\">\n",
              "  <thead>\n",
              "    <tr style=\"text-align: right;\">\n",
              "      <th></th>\n",
              "      <th>Index</th>\n",
              "      <th>ID</th>\n",
              "      <th>Location</th>\n",
              "      <th>Num_Bathrooms</th>\n",
              "      <th>Num_Beds</th>\n",
              "      <th>BER_class</th>\n",
              "      <th>Description</th>\n",
              "      <th>Services</th>\n",
              "      <th>Features</th>\n",
              "      <th>Latitude</th>\n",
              "      <th>Longitude</th>\n",
              "      <th>Type</th>\n",
              "      <th>Surface</th>\n",
              "      <th>Price</th>\n",
              "    </tr>\n",
              "  </thead>\n",
              "  <tbody>\n",
              "    <tr>\n",
              "      <th>0</th>\n",
              "      <td>1</td>\n",
              "      <td>12409116</td>\n",
              "      <td>Ongar</td>\n",
              "      <td>2</td>\n",
              "      <td>2</td>\n",
              "      <td>C3</td>\n",
              "      <td>DNG are delighted to present to the market no....</td>\n",
              "      <td>NaN</td>\n",
              "      <td>None</td>\n",
              "      <td>53.396659</td>\n",
              "      <td>-6.438791</td>\n",
              "      <td>apartment</td>\n",
              "      <td>67.00</td>\n",
              "      <td>195000</td>\n",
              "    </tr>\n",
              "    <tr>\n",
              "      <th>1</th>\n",
              "      <td>2</td>\n",
              "      <td>12320330</td>\n",
              "      <td>North Strand</td>\n",
              "      <td>1</td>\n",
              "      <td>2</td>\n",
              "      <td>D1</td>\n",
              "      <td>13 Northbrook Terrace is a charming red brick ...</td>\n",
              "      <td>NaN</td>\n",
              "      <td>Bight and Spacious interior\\nNumerous original...</td>\n",
              "      <td>53.357129</td>\n",
              "      <td>-6.239779</td>\n",
              "      <td>terraced</td>\n",
              "      <td>95.97</td>\n",
              "      <td>425000</td>\n",
              "    </tr>\n",
              "    <tr>\n",
              "      <th>2</th>\n",
              "      <td>3</td>\n",
              "      <td>12405953</td>\n",
              "      <td>Stepaside</td>\n",
              "      <td>3</td>\n",
              "      <td>3</td>\n",
              "      <td>A3</td>\n",
              "      <td>Welcome to No. 6 Cotter Close, an immaculately...</td>\n",
              "      <td>NaN</td>\n",
              "      <td>Special Features\\nLarge rear garden\\nGenerous ...</td>\n",
              "      <td>53.266468</td>\n",
              "      <td>-6.222771</td>\n",
              "      <td>semi-detached</td>\n",
              "      <td>107.00</td>\n",
              "      <td>535000</td>\n",
              "    </tr>\n",
              "    <tr>\n",
              "      <th>3</th>\n",
              "      <td>4</td>\n",
              "      <td>12202582</td>\n",
              "      <td>Cabinteely</td>\n",
              "      <td>1</td>\n",
              "      <td>3</td>\n",
              "      <td>E1</td>\n",
              "      <td>Welcome to 3 Sycamore Walk!\\n\\r\\nEnjoying a pr...</td>\n",
              "      <td>NaN</td>\n",
              "      <td>Wonderful 3 bed detached bungalow.     \\nAccom...</td>\n",
              "      <td>53.261600</td>\n",
              "      <td>-6.166738</td>\n",
              "      <td>detached</td>\n",
              "      <td>81.00</td>\n",
              "      <td>499000</td>\n",
              "    </tr>\n",
              "    <tr>\n",
              "      <th>4</th>\n",
              "      <td>5</td>\n",
              "      <td>12299336</td>\n",
              "      <td>Lusk</td>\n",
              "      <td>3</td>\n",
              "      <td>4</td>\n",
              "      <td>D1</td>\n",
              "      <td>'Four Seasons' comes to the market as a wonder...</td>\n",
              "      <td>NaN</td>\n",
              "      <td>Detached Property      \\nDouble Glazed Windows...</td>\n",
              "      <td>53.550731</td>\n",
              "      <td>-6.121415</td>\n",
              "      <td>detached</td>\n",
              "      <td>153.00</td>\n",
              "      <td>510000</td>\n",
              "    </tr>\n",
              "    <tr>\n",
              "      <th>5</th>\n",
              "      <td>6</td>\n",
              "      <td>12225979</td>\n",
              "      <td>Glasnevin</td>\n",
              "      <td>1</td>\n",
              "      <td>3</td>\n",
              "      <td>E1</td>\n",
              "      <td>Property Team Lappin Estates take great pleasu...</td>\n",
              "      <td>NaN</td>\n",
              "      <td>None</td>\n",
              "      <td>53.380367</td>\n",
              "      <td>-6.279310</td>\n",
              "      <td>terraced</td>\n",
              "      <td>140.00</td>\n",
              "      <td>360000</td>\n",
              "    </tr>\n",
              "    <tr>\n",
              "      <th>6</th>\n",
              "      <td>7</td>\n",
              "      <td>12209989</td>\n",
              "      <td>North Circular Road</td>\n",
              "      <td>1</td>\n",
              "      <td>2</td>\n",
              "      <td>C3</td>\n",
              "      <td>6 Marlborough Court is a bright and spacious t...</td>\n",
              "      <td>NaN</td>\n",
              "      <td>First floor purpose built apartment\\nCul de sa...</td>\n",
              "      <td>53.355659</td>\n",
              "      <td>-6.294885</td>\n",
              "      <td>apartment</td>\n",
              "      <td>70.98</td>\n",
              "      <td>300000</td>\n",
              "    </tr>\n",
              "    <tr>\n",
              "      <th>7</th>\n",
              "      <td>8</td>\n",
              "      <td>12084555</td>\n",
              "      <td>Clondalkin</td>\n",
              "      <td>2</td>\n",
              "      <td>4</td>\n",
              "      <td>NaN</td>\n",
              "      <td>An outstanding detached Victorian Villa dating...</td>\n",
              "      <td>NaN</td>\n",
              "      <td>Magnificent detached Victorian Villa dating fr...</td>\n",
              "      <td>53.318857</td>\n",
              "      <td>-6.391826</td>\n",
              "      <td>detached</td>\n",
              "      <td>244.98</td>\n",
              "      <td>590000</td>\n",
              "    </tr>\n",
              "    <tr>\n",
              "      <th>8</th>\n",
              "      <td>9</td>\n",
              "      <td>12405966</td>\n",
              "      <td>Finglas</td>\n",
              "      <td>3</td>\n",
              "      <td>2</td>\n",
              "      <td>NaN</td>\n",
              "      <td>Ray Cooke Auctioneers are excited to present t...</td>\n",
              "      <td>NaN</td>\n",
              "      <td>None</td>\n",
              "      <td>53.400071</td>\n",
              "      <td>-6.304156</td>\n",
              "      <td>terraced</td>\n",
              "      <td>72.00</td>\n",
              "      <td>229000</td>\n",
              "    </tr>\n",
              "    <tr>\n",
              "      <th>9</th>\n",
              "      <td>10</td>\n",
              "      <td>12202195</td>\n",
              "      <td>Howth</td>\n",
              "      <td>2</td>\n",
              "      <td>2</td>\n",
              "      <td>NaN</td>\n",
              "      <td>Needles Cottage is located on the southern slo...</td>\n",
              "      <td>NaN</td>\n",
              "      <td>None</td>\n",
              "      <td>53.366407</td>\n",
              "      <td>-6.077866</td>\n",
              "      <td>semi-detached</td>\n",
              "      <td>63.70</td>\n",
              "      <td>499500</td>\n",
              "    </tr>\n",
              "  </tbody>\n",
              "</table>\n",
              "</div>"
            ],
            "text/plain": [
              "   Index        ID             Location  ...           Type  Surface   Price\n",
              "0      1  12409116                Ongar  ...      apartment    67.00  195000\n",
              "1      2  12320330         North Strand  ...       terraced    95.97  425000\n",
              "2      3  12405953            Stepaside  ...  semi-detached   107.00  535000\n",
              "3      4  12202582           Cabinteely  ...       detached    81.00  499000\n",
              "4      5  12299336                 Lusk  ...       detached   153.00  510000\n",
              "5      6  12225979            Glasnevin  ...       terraced   140.00  360000\n",
              "6      7  12209989  North Circular Road  ...      apartment    70.98  300000\n",
              "7      8  12084555           Clondalkin  ...       detached   244.98  590000\n",
              "8      9  12405966              Finglas  ...       terraced    72.00  229000\n",
              "9     10  12202195                Howth  ...  semi-detached    63.70  499500\n",
              "\n",
              "[10 rows x 14 columns]"
            ]
          },
          "metadata": {},
          "execution_count": 11
        }
      ]
    },
    {
      "cell_type": "code",
      "metadata": {
        "colab": {
          "base_uri": "https://localhost:8080/"
        },
        "id": "nZ_p2TRc-fUe",
        "outputId": "0f1228ab-8c5a-44c5-aed2-8f9283f15734"
      },
      "source": [
        "# What is meant by 'Services ?'\n",
        "df_train['Services'].unique()\n",
        "\n",
        "# Parking & Alarm interesting\n",
        "# Television services and type of heating not so much\n"
      ],
      "execution_count": 17,
      "outputs": [
        {
          "output_type": "execute_result",
          "data": {
            "text/plain": [
              "array([nan, 'Parking,Gas Fired Central Heating,Alarm',\n",
              "       'Parking,Wired for Cable Television',\n",
              "       'Parking,Gas Fired Central Heating,Alarm,Wired for Cable Television,Wheelchair Access',\n",
              "       'Parking,Gas Fired Central Heating,Wired for Cable Television',\n",
              "       'Parking,Oil Fired Central Heating',\n",
              "       'Parking,Gas Fired Central Heating,Alarm,Wired for Cable Television',\n",
              "       'Gas Fired Central Heating,Wired for Cable Television', 'Parking',\n",
              "       'Gas Fired Central Heating', 'Parking,Gas Fired Central Heating',\n",
              "       'Parking,Gas Fired Central Heating,Wired for Cable Television,Wheelchair Access',\n",
              "       'Parking,Gas Fired Central Heating,Wheelchair Access',\n",
              "       'Parking,Alarm,Wired for Cable Television,Oil Fired Central Heating',\n",
              "       'Parking,Alarm,Wired for Cable Television',\n",
              "       'Wired for Cable Television',\n",
              "       'Parking,Alarm,Oil Fired Central Heating',\n",
              "       'Parking,Gas Fired Central Heating,Alarm,Wired for Cable Television,Oil Fired Central Heating',\n",
              "       'Parking,Wired for Cable Television,Oil Fired Central Heating',\n",
              "       'Gas Fired Central Heating,Alarm',\n",
              "       'Gas Fired Central Heating,Alarm,Wired for Cable Television',\n",
              "       'Parking,Wired for Cable Television,Wheelchair Access,Oil Fired Central Heating',\n",
              "       'Parking,Alarm', 'Oil Fired Central Heating', 'Alarm',\n",
              "       'Parking,Gas Fired Central Heating,Alarm,Wheelchair Access',\n",
              "       'Alarm,Wired for Cable Television', 'Parking,Wheelchair Access',\n",
              "       'Gas Fired Central Heating,Alarm,Wired for Cable Television,Wheelchair Access',\n",
              "       'Parking,Alarm,Wired for Cable Television,Wheelchair Access',\n",
              "       'Parking,Wired for Cable Television,Wheelchair Access',\n",
              "       'Alarm,Oil Fired Central Heating'], dtype=object)"
            ]
          },
          "metadata": {},
          "execution_count": 17
        }
      ]
    },
    {
      "cell_type": "code",
      "metadata": {
        "colab": {
          "base_uri": "https://localhost:8080/"
        },
        "id": "tvQkxFi5AmeW",
        "outputId": "dfa22152-652b-4d13-89e7-4d1f451c3a3b"
      },
      "source": [
        "# Lets check for NaN's\n",
        "df_train.isna().sum()"
      ],
      "execution_count": 18,
      "outputs": [
        {
          "output_type": "execute_result",
          "data": {
            "text/plain": [
              "Index               0\n",
              "ID                  0\n",
              "Location            0\n",
              "Num_Bathrooms       0\n",
              "Num_Beds            0\n",
              "BER_class         251\n",
              "Description         0\n",
              "Services         1061\n",
              "Features            0\n",
              "Latitude            0\n",
              "Longitude           0\n",
              "Type                0\n",
              "Surface             0\n",
              "Price               0\n",
              "dtype: int64"
            ]
          },
          "metadata": {},
          "execution_count": 18
        }
      ]
    },
    {
      "cell_type": "code",
      "metadata": {
        "colab": {
          "base_uri": "https://localhost:8080/"
        },
        "id": "vxPgXVzzDQdO",
        "outputId": "5d23733c-33f6-4f79-9b1c-67d9c4afee17"
      },
      "source": [
        " # Check to NaN's against row count to see if we can do something to generate data in the NaNs\n",
        " # BER is an important feature for price prediction \n",
        "\n",
        "round((df_train.isna().sum()/df_train.shape[0])*100,0)"
      ],
      "execution_count": 28,
      "outputs": [
        {
          "output_type": "execute_result",
          "data": {
            "text/plain": [
              "Index             0.0\n",
              "ID                0.0\n",
              "Location          0.0\n",
              "Num_Bathrooms     0.0\n",
              "Num_Beds          0.0\n",
              "BER_class        15.0\n",
              "Description       0.0\n",
              "Services         65.0\n",
              "Features          0.0\n",
              "Latitude          0.0\n",
              "Longitude         0.0\n",
              "Type              0.0\n",
              "Surface           0.0\n",
              "Price             0.0\n",
              "dtype: float64"
            ]
          },
          "metadata": {},
          "execution_count": 28
        }
      ]
    },
    {
      "cell_type": "markdown",
      "metadata": {
        "id": "3ueYXdEvGsm2"
      },
      "source": [
        "As just 15 % of BER_Class values are missing I will attempt to create those values\n",
        "While Services could prove a useful feature for NLP analysis there are to many (65%) missing values .  I will drop this feature \n"
      ]
    },
    {
      "cell_type": "code",
      "metadata": {
        "colab": {
          "base_uri": "https://localhost:8080/"
        },
        "id": "i7Lg5tN0OIUW",
        "outputId": "8b2c137e-22ec-4f63-a191-959d39224b18"
      },
      "source": [
        "df_train['Location'].unique()"
      ],
      "execution_count": 33,
      "outputs": [
        {
          "output_type": "execute_result",
          "data": {
            "text/plain": [
              "array(['Ongar', 'North Strand', 'Stepaside', 'Cabinteely', 'Lusk',\n",
              "       'Glasnevin', 'North Circular Road', 'Clondalkin', 'Finglas',\n",
              "       'Howth', 'Rathfarnham', 'Clontarf', 'Balbriggan', 'Killester',\n",
              "       'Rathmines', 'Baldoyle', 'Rush', 'Dublin 2', 'Artane',\n",
              "       'Ballycullen', 'Loughlinstown', 'Ballsbridge', 'Lucan',\n",
              "       'Balgriffin', 'Navan Road (D7)', 'Castleknock', 'Dun Laoghaire',\n",
              "       'Whitehall', 'Rathcoole', 'Dublin 1', 'Templeogue', 'Beaumont',\n",
              "       'Sandycove', 'Kinsealy', 'Perrystown', 'Drumcondra',\n",
              "       'Blanchardstown', 'Kilmainham', 'Monkstown', 'Rathgar', 'Sutton',\n",
              "       'Citywest', 'Milltown', 'Malahide', 'Ringsend', 'Blackrock',\n",
              "       'Clonsilla', 'Sandyford', 'Kilmacud', 'Glenageary', 'Clongriffin',\n",
              "       'Skerries', 'Ranelagh', 'IFSC', 'Terenure', 'Dundrum',\n",
              "       'Sandymount', 'Donaghmede', 'Dublin 7', 'Knocklyon', 'Killiney',\n",
              "       'Santry', 'Tallaght', 'Palmerstown', 'Cabra', 'Ballinteer',\n",
              "       'Donabate', 'Kilnamanagh', 'Rathmichael', 'Swords', 'Ballyfermot',\n",
              "       'Donnybrook', 'Stoneybatter', 'Marino', 'Foxrock', 'Saggart',\n",
              "       'Tyrrelstown', 'Walkinstown', 'Booterstown', 'Coolock', 'Crumlin',\n",
              "       'Dublin 8', 'Donnycarney', 'Kimmage', 'Portmarnock',\n",
              "       \"Harold's Cross\", 'Ashtown', 'Garristown', 'Mount Merrion',\n",
              "       'Bluebell', 'East Wall', 'Firhouse', 'Dublin 4', 'Drimnagh',\n",
              "       'Ballybough', 'Sallynoggin', 'Inchicore', 'Clonskeagh',\n",
              "       'Adamstown', 'Deansgrange', 'Temple Bar', 'Ard Na Greine',\n",
              "       'Dalkey', 'Churchtown', 'Portobello', 'Balrothery', 'Chapelizod',\n",
              "       'Raheny', 'Carrickmines', 'Shankill', 'Grand Canal Dock',\n",
              "       'Irishtown', 'Newcastle', 'Phibsborough', 'Goatstown', 'Naul',\n",
              "       'Clonee', 'Kilmore', 'Windy Arbour', 'Ballybrack', 'Rialto',\n",
              "       'Mulhuddart', 'Ballyboughal', 'Christchurch', 'Leopardstown',\n",
              "       'The Ward', 'Kilternan', 'Kingswood', 'Clarehall',\n",
              "       'South Circular Road', 'Fairview', 'Loughshinny', 'Oldbawn',\n",
              "       'Ballymun', 'Islandbridge', 'Darndale', 'Clonshaugh', 'Coolmine',\n",
              "       'Brittas', 'Smithfield', 'Park West', 'The Coombe'], dtype=object)"
            ]
          },
          "metadata": {},
          "execution_count": 33
        }
      ]
    },
    {
      "cell_type": "markdown",
      "metadata": {
        "id": "X9uBAb0YGWRW"
      },
      "source": [
        ""
      ]
    },
    {
      "cell_type": "markdown",
      "metadata": {
        "id": "SHh8Qju8Cgym"
      },
      "source": [
        ""
      ]
    },
    {
      "cell_type": "code",
      "metadata": {
        "colab": {
          "base_uri": "https://localhost:8080/",
          "height": 297
        },
        "id": "l8JkPyEkpSLi",
        "outputId": "95dead6b-b1f2-45fa-b289-b46cc5ca70aa"
      },
      "source": [
        "\n",
        "df_train.describe().T"
      ],
      "execution_count": 14,
      "outputs": [
        {
          "output_type": "execute_result",
          "data": {
            "text/html": [
              "<div>\n",
              "<style scoped>\n",
              "    .dataframe tbody tr th:only-of-type {\n",
              "        vertical-align: middle;\n",
              "    }\n",
              "\n",
              "    .dataframe tbody tr th {\n",
              "        vertical-align: top;\n",
              "    }\n",
              "\n",
              "    .dataframe thead th {\n",
              "        text-align: right;\n",
              "    }\n",
              "</style>\n",
              "<table border=\"1\" class=\"dataframe\">\n",
              "  <thead>\n",
              "    <tr style=\"text-align: right;\">\n",
              "      <th></th>\n",
              "      <th>count</th>\n",
              "      <th>mean</th>\n",
              "      <th>std</th>\n",
              "      <th>min</th>\n",
              "      <th>25%</th>\n",
              "      <th>50%</th>\n",
              "      <th>75%</th>\n",
              "      <th>max</th>\n",
              "    </tr>\n",
              "  </thead>\n",
              "  <tbody>\n",
              "    <tr>\n",
              "      <th>Index</th>\n",
              "      <td>1638.0</td>\n",
              "      <td>8.195000e+02</td>\n",
              "      <td>472.994186</td>\n",
              "      <td>1.000000e+00</td>\n",
              "      <td>4.102500e+02</td>\n",
              "      <td>8.195000e+02</td>\n",
              "      <td>1.228750e+03</td>\n",
              "      <td>1.638000e+03</td>\n",
              "    </tr>\n",
              "    <tr>\n",
              "      <th>ID</th>\n",
              "      <td>1638.0</td>\n",
              "      <td>1.231930e+07</td>\n",
              "      <td>144754.041968</td>\n",
              "      <td>1.118567e+07</td>\n",
              "      <td>1.228104e+07</td>\n",
              "      <td>1.238055e+07</td>\n",
              "      <td>1.240548e+07</td>\n",
              "      <td>1.242836e+07</td>\n",
              "    </tr>\n",
              "    <tr>\n",
              "      <th>Num_Bathrooms</th>\n",
              "      <td>1638.0</td>\n",
              "      <td>2.054335e+00</td>\n",
              "      <td>1.241259</td>\n",
              "      <td>1.000000e+00</td>\n",
              "      <td>1.000000e+00</td>\n",
              "      <td>2.000000e+00</td>\n",
              "      <td>3.000000e+00</td>\n",
              "      <td>1.800000e+01</td>\n",
              "    </tr>\n",
              "    <tr>\n",
              "      <th>Num_Beds</th>\n",
              "      <td>1638.0</td>\n",
              "      <td>3.043346e+00</td>\n",
              "      <td>1.379650</td>\n",
              "      <td>1.000000e+00</td>\n",
              "      <td>2.000000e+00</td>\n",
              "      <td>3.000000e+00</td>\n",
              "      <td>4.000000e+00</td>\n",
              "      <td>2.700000e+01</td>\n",
              "    </tr>\n",
              "    <tr>\n",
              "      <th>Latitude</th>\n",
              "      <td>1638.0</td>\n",
              "      <td>5.335047e+01</td>\n",
              "      <td>0.076832</td>\n",
              "      <td>5.250186e+01</td>\n",
              "      <td>5.329426e+01</td>\n",
              "      <td>5.334139e+01</td>\n",
              "      <td>5.338203e+01</td>\n",
              "      <td>5.363059e+01</td>\n",
              "    </tr>\n",
              "    <tr>\n",
              "      <th>Longitude</th>\n",
              "      <td>1638.0</td>\n",
              "      <td>-6.255086e+00</td>\n",
              "      <td>0.144430</td>\n",
              "      <td>-6.497000e+00</td>\n",
              "      <td>-6.309613e+00</td>\n",
              "      <td>-6.247780e+00</td>\n",
              "      <td>-6.193982e+00</td>\n",
              "      <td>-1.744995e+00</td>\n",
              "    </tr>\n",
              "    <tr>\n",
              "      <th>Surface</th>\n",
              "      <td>1638.0</td>\n",
              "      <td>1.695407e+02</td>\n",
              "      <td>1791.793934</td>\n",
              "      <td>3.400000e+00</td>\n",
              "      <td>7.300000e+01</td>\n",
              "      <td>9.705000e+01</td>\n",
              "      <td>1.350000e+02</td>\n",
              "      <td>7.223639e+04</td>\n",
              "    </tr>\n",
              "    <tr>\n",
              "      <th>Price</th>\n",
              "      <td>1638.0</td>\n",
              "      <td>5.547196e+05</td>\n",
              "      <td>565203.162814</td>\n",
              "      <td>1.999500e+04</td>\n",
              "      <td>2.950000e+05</td>\n",
              "      <td>3.950000e+05</td>\n",
              "      <td>5.950000e+05</td>\n",
              "      <td>8.900000e+06</td>\n",
              "    </tr>\n",
              "  </tbody>\n",
              "</table>\n",
              "</div>"
            ],
            "text/plain": [
              "                count          mean  ...           75%           max\n",
              "Index          1638.0  8.195000e+02  ...  1.228750e+03  1.638000e+03\n",
              "ID             1638.0  1.231930e+07  ...  1.240548e+07  1.242836e+07\n",
              "Num_Bathrooms  1638.0  2.054335e+00  ...  3.000000e+00  1.800000e+01\n",
              "Num_Beds       1638.0  3.043346e+00  ...  4.000000e+00  2.700000e+01\n",
              "Latitude       1638.0  5.335047e+01  ...  5.338203e+01  5.363059e+01\n",
              "Longitude      1638.0 -6.255086e+00  ... -6.193982e+00 -1.744995e+00\n",
              "Surface        1638.0  1.695407e+02  ...  1.350000e+02  7.223639e+04\n",
              "Price          1638.0  5.547196e+05  ...  5.950000e+05  8.900000e+06\n",
              "\n",
              "[8 rows x 8 columns]"
            ]
          },
          "metadata": {},
          "execution_count": 14
        }
      ]
    },
    {
      "cell_type": "code",
      "metadata": {
        "colab": {
          "base_uri": "https://localhost:8080/"
        },
        "id": "a5Tk9kkttvTB",
        "outputId": "70422e37-6001-4df7-ca8f-7e8227cbeeaa"
      },
      "source": [
        "df_train.info()"
      ],
      "execution_count": 15,
      "outputs": [
        {
          "output_type": "stream",
          "name": "stdout",
          "text": [
            "<class 'pandas.core.frame.DataFrame'>\n",
            "RangeIndex: 1638 entries, 0 to 1637\n",
            "Data columns (total 14 columns):\n",
            " #   Column         Non-Null Count  Dtype  \n",
            "---  ------         --------------  -----  \n",
            " 0   Index          1638 non-null   int64  \n",
            " 1   ID             1638 non-null   int64  \n",
            " 2   Location       1638 non-null   object \n",
            " 3   Num_Bathrooms  1638 non-null   int64  \n",
            " 4   Num_Beds       1638 non-null   int64  \n",
            " 5   BER_class      1387 non-null   object \n",
            " 6   Description    1638 non-null   object \n",
            " 7   Services       577 non-null    object \n",
            " 8   Features       1638 non-null   object \n",
            " 9   Latitude       1638 non-null   float64\n",
            " 10  Longitude      1638 non-null   float64\n",
            " 11  Type           1638 non-null   object \n",
            " 12  Surface        1638 non-null   float64\n",
            " 13  Price          1638 non-null   int64  \n",
            "dtypes: float64(3), int64(5), object(6)\n",
            "memory usage: 179.3+ KB\n"
          ]
        }
      ]
    },
    {
      "cell_type": "code",
      "metadata": {
        "id": "5lN45Mzw-FrX"
      },
      "source": [
        "# Lets look for NaN's\n",
        "\n",
        "\n"
      ],
      "execution_count": null,
      "outputs": []
    },
    {
      "cell_type": "markdown",
      "metadata": {
        "id": "2PMoPLlUJ1Ly"
      },
      "source": [
        "## Training & Test Data"
      ]
    },
    {
      "cell_type": "code",
      "metadata": {
        "id": "loLTHklwKGnV"
      },
      "source": [
        "# split data into training and test\n",
        "from sklearn.model_selection import train_test_split\n",
        "\n",
        "# training: 70% (0.7), test: 30% (0.3) \n",
        "# you could try any other combination \n",
        "# but consider 50% of training as the low boundary\n",
        "X_train,X_test,y_train,y_test = train_test_split(X, y, test_size=0.3)"
      ],
      "execution_count": null,
      "outputs": []
    },
    {
      "cell_type": "markdown",
      "metadata": {
        "id": "ztBkSZluye87"
      },
      "source": [
        "### Train dataset"
      ]
    },
    {
      "cell_type": "code",
      "metadata": {
        "id": "6XUFUPABMHfF"
      },
      "source": [
        "# show first data frame rows \n",
        "dftrain.head()"
      ],
      "execution_count": null,
      "outputs": []
    },
    {
      "cell_type": "code",
      "metadata": {
        "id": "5rq_p-D4yLBe"
      },
      "source": [
        "# Generate descriptive statistics\n",
        "dftrain.describe()"
      ],
      "execution_count": null,
      "outputs": []
    },
    {
      "cell_type": "markdown",
      "metadata": {
        "id": "Iqg9_uxFyZli"
      },
      "source": [
        "### Test dataset"
      ]
    },
    {
      "cell_type": "code",
      "metadata": {
        "id": "bw2_yypxMfsi"
      },
      "source": [
        "# show first data frame rows \n",
        "dftest.head()"
      ],
      "execution_count": null,
      "outputs": []
    },
    {
      "cell_type": "code",
      "metadata": {
        "id": "FXo0x2u7T7-1"
      },
      "source": [
        "# Generate descriptive statistics\n",
        "dftest.describe()"
      ],
      "execution_count": null,
      "outputs": []
    },
    {
      "cell_type": "markdown",
      "metadata": {
        "id": "UjMH1CSEUA1A"
      },
      "source": [
        "### Expected Cost dataset"
      ]
    },
    {
      "cell_type": "markdown",
      "metadata": {
        "id": "G5oRiZxo2gpN"
      },
      "source": [
        "# NATURAL LANGUAGE PROCESSING"
      ]
    },
    {
      "cell_type": "markdown",
      "metadata": {
        "id": "e8s0Wi3a8yjN"
      },
      "source": [
        "Natural language processing ([NLP](https://en.wikipedia.org/wiki/Natural_language_processing)) is a subfield of linguistics, computer science, and artificial intelligence.\n",
        "\n",
        "* NLP concerned with the interactions between computers and human language.\n",
        "* In particular how to program computers to process and analyze large amounts of natural language data. \n",
        "* The goal is a computer capable of \"understanding\" the contents of documents.\n",
        "* Including the contextual nuances of the language within them. \n",
        "* The technology can then accurately extract information and insights contained in the documents.\n",
        "* As well as categorize and organize the documents themselves. "
      ]
    },
    {
      "cell_type": "markdown",
      "metadata": {
        "id": "oValFP-z2gpN"
      },
      "source": [
        "Your comments, explanation, and references here."
      ]
    },
    {
      "cell_type": "markdown",
      "metadata": {
        "id": "gYv9heD8qf_c"
      },
      "source": [
        "## Pre processing training and testing datasets"
      ]
    },
    {
      "cell_type": "code",
      "metadata": {
        "id": "e_WND6NP2gpN"
      },
      "source": [
        "# Using English Language\n",
        "# Removing stopwords and stemming\n",
        "# a stem must be a word\n",
        "# Example:  fishing, fished, and fisher: stem -> fish\n",
        "# Stop words are basically a set of commonly used words in any language\n",
        "# and are filtered out before processing of natural language data \n",
        "stemmer = SnowballStemmer('english', ignore_stopwords=False)\n",
        "nltk.download('stopwords')\n",
        "stop = set(stopwords.words('english'))\n"
      ],
      "execution_count": null,
      "outputs": []
    },
    {
      "cell_type": "code",
      "metadata": {
        "id": "bZEWfOLdrFpo"
      },
      "source": [
        ""
      ],
      "execution_count": null,
      "outputs": []
    },
    {
      "cell_type": "markdown",
      "metadata": {
        "id": "bJFJQxAS9HZK"
      },
      "source": [
        "# PIECEWISE REGRESSION"
      ]
    },
    {
      "cell_type": "markdown",
      "metadata": {
        "id": "QkRchZtf6IV-"
      },
      "source": [
        "**Piecewise regression**, extract from [Wikipedia](https://en.wikipedia.org/wiki/Segmented_regression):\n",
        "\n",
        "Segmented regression, also known as piecewise regression or broken-stick regression, is a method in regression analysis in which the independent variable is partitioned into intervals and a separate line segment is fit to each interval. \n",
        "\n",
        "* Segmented regression analysis can also be performed on \n",
        "multivariate data by partitioning the various independent variables. \n",
        "* Segmented regression is useful when the independent variables, clustered into different groups, exhibit different relationships between the variables in these regions. \n",
        "\n",
        "* The boundaries between the segments are breakpoints.\n",
        "\n",
        "* Segmented linear regression is segmented regression whereby the relations in the intervals are obtained by linear regression. "
      ]
    },
    {
      "cell_type": "markdown",
      "metadata": {
        "id": "po84zvge2NS7"
      },
      "source": [
        "Your comments, explanation, and references here."
      ]
    },
    {
      "cell_type": "code",
      "metadata": {
        "id": "pXX7Mq2Y2NrK"
      },
      "source": [
        "# your code here"
      ],
      "execution_count": null,
      "outputs": []
    },
    {
      "cell_type": "markdown",
      "metadata": {
        "id": "_kFgkUA85_pn"
      },
      "source": [
        "# BAYESIAN NN"
      ]
    },
    {
      "cell_type": "markdown",
      "metadata": {
        "id": "ELer5PV37ftX"
      },
      "source": [
        "A [Bayesian network](https://en.wikipedia.org/wiki/Bayesian_network) (also known as a Bayes network, Bayes net, belief network, or decision network) is a probabilistic graphical model that represents a set of variables and their conditional dependencies via a directed acyclic graph (DAG). \n",
        "\n",
        "* Bayesian networks are ideal for taking an event that occurred and predicting the likelihood that any one of several possible known causes was the contributing factor. \n",
        "* For example, a Bayesian network could represent the probabilistic relationships between diseases and symptoms. \n",
        "* Given symptoms, the network can be used to compute the probabilities of the presence of various diseases."
      ]
    },
    {
      "cell_type": "markdown",
      "metadata": {
        "id": "z0kauv1L5_po"
      },
      "source": [
        "Your comments, explanation, and references here."
      ]
    },
    {
      "cell_type": "code",
      "metadata": {
        "id": "0smpwCET5_pp"
      },
      "source": [
        "# your code here"
      ],
      "execution_count": null,
      "outputs": []
    },
    {
      "cell_type": "markdown",
      "metadata": {
        "id": "qYOnlEVFr_HX"
      },
      "source": [
        "## Output the prediction \n"
      ]
    },
    {
      "cell_type": "code",
      "metadata": {
        "id": "W-_dU-0isIYw"
      },
      "source": [
        "# ModelName.to_csv(\"FileName\")\n",
        "Decision.to_csv(\"Post_Kaggle_Decison.csv\",  index=False)"
      ],
      "execution_count": null,
      "outputs": []
    },
    {
      "cell_type": "markdown",
      "metadata": {
        "id": "_fN0_nnM_DdO"
      },
      "source": [
        "## References\n",
        "\n",
        "https://thispointer.com/pandas-get-unique-values-in-single-or-multiple-columns-of-a-dataframe-in-python/\n",
        "\n",
        "https://stackoverflow.com/questions/15943769/how-do-i-get-the-row-count-of-a-pandas-dataframe\n"
      ]
    },
    {
      "cell_type": "markdown",
      "metadata": {
        "id": "f0GYCpwEM09T"
      },
      "source": [
        "# SUMMARY"
      ]
    },
    {
      "cell_type": "markdown",
      "metadata": {
        "id": "rBDzsZSJ7HZp"
      },
      "source": [
        "Your summary here."
      ]
    }
  ]
}